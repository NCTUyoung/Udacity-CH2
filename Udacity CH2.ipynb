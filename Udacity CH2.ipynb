{
 "cells": [
  {
   "cell_type": "markdown",
   "metadata": {},
   "source": [
    "### Import library "
   ]
  },
  {
   "cell_type": "code",
   "execution_count": 13,
   "metadata": {},
   "outputs": [],
   "source": [
    "import torch\n",
    "import pandas as pd\n",
    "import PIL\n",
    "import matplotlib.pylab as plt"
   ]
  },
  {
   "cell_type": "markdown",
   "metadata": {},
   "source": [
    "### Visdom"
   ]
  },
  {
   "cell_type": "code",
   "execution_count": 2,
   "metadata": {},
   "outputs": [],
   "source": [
    "import visdom\n",
    "import numpy as np\n",
    "vis = visdom.Visdom(env='ch2')\n"
   ]
  },
  {
   "cell_type": "markdown",
   "metadata": {},
   "source": [
    "### Pytorch"
   ]
  },
  {
   "cell_type": "code",
   "execution_count": 3,
   "metadata": {},
   "outputs": [],
   "source": [
    "import torchvision.transforms as transforms\n",
    "from torchvision.utils import save_image\n",
    "from torch.utils.data import DataLoader\n",
    "from torchvision import datasets,models\n",
    "\n",
    "import torch.nn as nn\n",
    "import torch.nn.functional as F\n",
    "import torch"
   ]
  },
  {
   "cell_type": "markdown",
   "metadata": {},
   "source": [
    "### Torch Vision"
   ]
  },
  {
   "cell_type": "code",
   "execution_count": 4,
   "metadata": {},
   "outputs": [
    {
     "name": "stderr",
     "output_type": "stream",
     "text": [
      "/home/jimmyyoung/.local/lib/python3.5/site-packages/torchvision/models/densenet.py:212: UserWarning: nn.init.kaiming_normal is now deprecated in favor of nn.init.kaiming_normal_.\n",
      "  nn.init.kaiming_normal(m.weight.data)\n"
     ]
    }
   ],
   "source": [
    "feature_extract = models.densenet121(pretrained=True)"
   ]
  },
  {
   "cell_type": "code",
   "execution_count": 5,
   "metadata": {},
   "outputs": [
    {
     "name": "stderr",
     "output_type": "stream",
     "text": [
      "/usr/local/lib/python3.5/dist-packages/pandas/core/generic.py:4401: SettingWithCopyWarning: \n",
      "A value is trying to be set on a copy of a slice from a DataFrame.\n",
      "Try using .loc[row_indexer,col_indexer] = value instead\n",
      "\n",
      "See the caveats in the documentation: http://pandas.pydata.org/pandas-docs/stable/indexing.html#indexing-view-versus-copy\n",
      "  self[name] = value\n"
     ]
    }
   ],
   "source": [
    "root_list = ['HMB_1/','HMB_2/','HMB_4/','HMB_5/','HMB_6/']\n",
    "\n",
    "hbm_1_data = pd.read_csv('./HMB_1/interpolated.csv')\n",
    "hbm_2_data = pd.read_csv('./HMB_2/interpolated.csv')\n",
    "hbm_4_data = pd.read_csv('./HMB_4/interpolated.csv')\n",
    "hbm_5_data = pd.read_csv('./HMB_5/interpolated.csv')\n",
    "\n",
    "hbm_6_data = pd.read_csv('./HMB_6/interpolated.csv')\n",
    "df_list = [hbm_1_data,hbm_2_data,hbm_4_data,hbm_5_data,hbm_6_data]\n",
    "df_center_list = []\n",
    "for i,df in enumerate(df_list):\n",
    "    a = df.groupby('frame_id').get_group('center_camera')\n",
    "    a.sort_values('timestamp')\n",
    "    a.filename = root_list[i]+a.filename\n",
    "    df_center_list.append(a)\n",
    "    "
   ]
  },
  {
   "cell_type": "code",
   "execution_count": 6,
   "metadata": {},
   "outputs": [],
   "source": [
    "video = []\n",
    "for i in range(100):\n",
    "    video.append(plt.imread(df_center_list[1].iloc[i].filename))\n",
    "video = np.array(video)"
   ]
  },
  {
   "cell_type": "code",
   "execution_count": 7,
   "metadata": {},
   "outputs": [
    {
     "data": {
      "text/plain": [
       "'window_36c7946cf95d56'"
      ]
     },
     "execution_count": 7,
     "metadata": {},
     "output_type": "execute_result"
    }
   ],
   "source": [
    "vis.video(video)\n"
   ]
  },
  {
   "cell_type": "code",
   "execution_count": null,
   "metadata": {},
   "outputs": [],
   "source": []
  },
  {
   "cell_type": "code",
   "execution_count": 8,
   "metadata": {},
   "outputs": [],
   "source": [
    "class PARSER():\n",
    "    def __init__(self):\n",
    "        self.n_epochs = 300\n",
    "        self.batch_size = 64\n",
    "        self.lr = 0.0001\n",
    "        self.b1 = 0.5\n",
    "        self.b2 = 0.999\n",
    "        self.n_cpu = 8\n",
    "        self.latent_dim = 62\n",
    "        self.img_size = 64\n",
    "        self.channels = 1\n",
    "        self.sample_interval = 1000\n",
    "        self.clip_value = 0.01\n",
    "opt = PARSER()\n",
    "\n",
    "\n"
   ]
  },
  {
   "cell_type": "markdown",
   "metadata": {},
   "source": [
    "### Cuda"
   ]
  },
  {
   "cell_type": "code",
   "execution_count": 9,
   "metadata": {},
   "outputs": [],
   "source": [
    "cuda = True if torch.cuda.is_available() else False\n",
    "device = 'cuda' if cuda else 'cpu'\n"
   ]
  },
  {
   "cell_type": "markdown",
   "metadata": {},
   "source": [
    "### Weight Norm"
   ]
  },
  {
   "cell_type": "code",
   "execution_count": 10,
   "metadata": {},
   "outputs": [],
   "source": [
    "def weights_init_normal(m):\n",
    "    classname = m.__class__.__name__\n",
    "    if classname.find('Conv') != -1:\n",
    "        torch.nn.init.normal_(m.weight.data, 0.0, 0.02)\n",
    "    elif classname.find('BatchNorm2d') != -1:\n",
    "        torch.nn.init.normal_(m.weight.data, 1.0, 0.02)\n",
    "        torch.nn.init.constant_(m.bias.data, 0.0)"
   ]
  },
  {
   "cell_type": "code",
   "execution_count": 11,
   "metadata": {},
   "outputs": [],
   "source": [
    "# Policy Network\n",
    "class Generator(nn.Module):\n",
    "    def __init__(self):\n",
    "        super(Generator, self).__init__()\n",
    "        self.conv1_0 = nn.Sequential(\n",
    "            nn.Conv3d(3, 64, (3, 3, 3), stride=(1, 2, 2), padding=(0, 1, 1)),\n",
    "            nn.ReLU(),\n",
    "        )\n",
    "        self.maxpool1_0 = nn.MaxPool2d(kernel_size=3, stride=2, padding=1, dilation=1, ceil_mode=False)\n",
    "        \n",
    "        self.conv2 = nn.Sequential(\n",
    "            feature_extract.features.denseblock1,\n",
    "            feature_extract.features.transition1,\n",
    "            feature_extract.features.denseblock2,\n",
    "            feature_extract.features.transition2,\n",
    "            feature_extract.features.denseblock3,\n",
    "            feature_extract.features.transition3,\n",
    "            \n",
    "        )\n",
    "        self.maxpool2_0 = nn.AdaptiveAvgPool2d(1)\n",
    "        self.fc = nn.Linear(in_features=512,out_features=3)\n",
    "        \n",
    "#         self.conv4 = nn.Conv2d(32,1,3,1,1)\n",
    "            \n",
    "    def forward(self, x):\n",
    "        \n",
    "        x = F.relu(self.conv1_0(x)) \n",
    "        x = x.squeeze(2)\n",
    "        x = self.maxpool1_0(x)\n",
    "        x = self.conv2(x)\n",
    "        x = self.maxpool2_0(x)\n",
    "        x = F.tanh(self.fc(x.view(-1,512)))\n",
    "#         x = F.sigmoid(self.conv4(x))\n",
    "        return x\n",
    "# Reward function   \n",
    "class Discriminator(nn.Module):\n",
    "    def __init__(self):\n",
    "        super(Discriminator, self).__init__()\n",
    "\n",
    "        \n",
    "        self.conv = nn.Sequential(\n",
    "            nn.Conv2d(4,32,3,1,1),\n",
    "            nn.BatchNorm2d(32),\n",
    "            nn.LeakyReLU(),\n",
    "            \n",
    "            nn.Conv2d(32,32,3,1,1),\n",
    "            nn.BatchNorm2d(32),\n",
    "            nn.LeakyReLU(),\n",
    "            \n",
    "            nn.Conv2d(32,32,3,2,1),\n",
    "            nn.BatchNorm2d(32),\n",
    "            nn.LeakyReLU(),\n",
    "            \n",
    "            nn.Conv2d(32,32,3,2,1),\n",
    "            nn.BatchNorm2d(32),\n",
    "            nn.LeakyReLU(),\n",
    "            \n",
    "            nn.Conv2d(32,32,3,2,1),\n",
    "            nn.BatchNorm2d(32),\n",
    "            nn.LeakyReLU(),\n",
    "            \n",
    "        )\n",
    "        self.fc = nn.Linear(8*8*32,1)\n",
    "        self.Htanh = torch.nn.Hardtanh()\n",
    "        \n",
    "\n",
    "    def forward(self, img):\n",
    "        out = self.conv(img)\n",
    "        \n",
    "        out = self.fc(out.view(-1,8*8*32))\n",
    "         \n",
    "        return self.Htanh(out)\n",
    "\n",
    "    \n",
    "Policy_net = Generator()\n",
    "Reward_net = Discriminator()\n",
    "weights_init_normal(Policy_net)\n",
    "weights_init_normal(Reward_net)\n",
    "Policy_net,Reward_net = Policy_net.to(device),Reward_net.to(device)"
   ]
  },
  {
   "cell_type": "markdown",
   "metadata": {},
   "source": [
    "### Transform"
   ]
  },
  {
   "cell_type": "code",
   "execution_count": 14,
   "metadata": {},
   "outputs": [],
   "source": [
    "transform = transforms.Compose([\n",
    "    transforms.RandomAffine(5),\n",
    "    transforms.ColorJitter(0.1,0.1,0.1,0.1),\n",
    "    transforms.ToTensor(),\n",
    "    \n",
    "])"
   ]
  },
  {
   "cell_type": "markdown",
   "metadata": {},
   "source": [
    "### Sample image randomly for five image"
   ]
  },
  {
   "cell_type": "code",
   "execution_count": 34,
   "metadata": {
    "scrolled": true
   },
   "outputs": [],
   "source": [
    "img_list = []\n",
    "for i in range(3):\n",
    "    a = PIL.Image.open(df_center_list[0].iloc[i].filename)\n",
    "    img_list.append(transform(a))\n",
    "img_list = torch.stack(img_list).unsqueeze(0)"
   ]
  },
  {
   "cell_type": "markdown",
   "metadata": {},
   "source": []
  },
  {
   "cell_type": "code",
   "execution_count": 37,
   "metadata": {},
   "outputs": [
    {
     "name": "stdout",
     "output_type": "stream",
     "text": [
      "torch.Size([1, 512, 1, 1])\n"
     ]
    },
    {
     "name": "stderr",
     "output_type": "stream",
     "text": [
      "/home/jimmyyoung/.local/lib/python3.5/site-packages/torch/nn/functional.py:995: UserWarning: nn.functional.tanh is deprecated. Use torch.tanh instead.\n",
      "  warnings.warn(\"nn.functional.tanh is deprecated. Use torch.tanh instead.\")\n"
     ]
    },
    {
     "data": {
      "text/plain": [
       "tensor([[ 0.0286, -0.0245,  0.0019]], device='cuda:0', grad_fn=<TanhBackward>)"
      ]
     },
     "execution_count": 37,
     "metadata": {},
     "output_type": "execute_result"
    }
   ],
   "source": [
    "Policy_net(img_list.to(device))"
   ]
  },
  {
   "cell_type": "markdown",
   "metadata": {},
   "source": [
    "### Sample"
   ]
  },
  {
   "cell_type": "code",
   "execution_count": 21,
   "metadata": {},
   "outputs": [
    {
     "data": {
      "text/plain": [
       "'window_36c79c67e9f818'"
      ]
     },
     "execution_count": 21,
     "metadata": {},
     "output_type": "execute_result"
    }
   ],
   "source": [
    "vis.image(transform(PIL.Image.open(df_center_list[0].iloc[0].filename)))"
   ]
  },
  {
   "cell_type": "code",
   "execution_count": 12,
   "metadata": {},
   "outputs": [
    {
     "name": "stdout",
     "output_type": "stream",
     "text": [
      "torch.Size([1, 512, 1, 1])\n"
     ]
    },
    {
     "name": "stderr",
     "output_type": "stream",
     "text": [
      "/home/jimmyyoung/.local/lib/python3.5/site-packages/torch/nn/functional.py:995: UserWarning: nn.functional.tanh is deprecated. Use torch.tanh instead.\n",
      "  warnings.warn(\"nn.functional.tanh is deprecated. Use torch.tanh instead.\")\n"
     ]
    },
    {
     "data": {
      "text/plain": [
       "tensor([[ 0.0355, -0.0231, -0.0114]], device='cuda:0', grad_fn=<TanhBackward>)"
      ]
     },
     "execution_count": 12,
     "metadata": {},
     "output_type": "execute_result"
    }
   ],
   "source": [
    "Policy_net(torch.ones((1,3,3,480,640)).to(device))"
   ]
  },
  {
   "cell_type": "markdown",
   "metadata": {},
   "source": [
    "### Training Progress\n",
    "random sample continuous 3 images and predict the next frame"
   ]
  },
  {
   "cell_type": "code",
   "execution_count": null,
   "metadata": {},
   "outputs": [],
   "source": []
  }
 ],
 "metadata": {
  "kernelspec": {
   "display_name": "Python 3",
   "language": "python",
   "name": "python3"
  },
  "language_info": {
   "codemirror_mode": {
    "name": "ipython",
    "version": 3
   },
   "file_extension": ".py",
   "mimetype": "text/x-python",
   "name": "python",
   "nbconvert_exporter": "python",
   "pygments_lexer": "ipython3",
   "version": "3.5.2"
  }
 },
 "nbformat": 4,
 "nbformat_minor": 2
}
