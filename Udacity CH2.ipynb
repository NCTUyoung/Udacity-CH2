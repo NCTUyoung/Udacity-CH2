{
 "cells": [
  {
   "cell_type": "markdown",
   "metadata": {},
   "source": [
    "### Import library "
   ]
  },
  {
   "cell_type": "code",
   "execution_count": 1,
   "metadata": {},
   "outputs": [],
   "source": [
    "import torch\n",
    "import pandas as pd\n",
    "import PIL\n",
    "import matplotlib.pylab as plt"
   ]
  },
  {
   "cell_type": "markdown",
   "metadata": {},
   "source": [
    "### Visdom"
   ]
  },
  {
   "cell_type": "code",
   "execution_count": 2,
   "metadata": {},
   "outputs": [],
   "source": [
    "import visdom\n",
    "import numpy as np\n",
    "vis = visdom.Visdom(env='ch2')\n"
   ]
  },
  {
   "cell_type": "markdown",
   "metadata": {},
   "source": [
    "### Pytorch"
   ]
  },
  {
   "cell_type": "code",
   "execution_count": 3,
   "metadata": {},
   "outputs": [],
   "source": [
    "import torchvision.transforms as transforms\n",
    "from torchvision.utils import save_image\n",
    "from torch.utils.data import DataLoader\n",
    "from torchvision import datasets,models\n",
    "\n",
    "import torch.nn as nn\n",
    "import torch.nn.functional as F\n",
    "import torch"
   ]
  },
  {
   "cell_type": "markdown",
   "metadata": {},
   "source": [
    "### Torch Vision"
   ]
  },
  {
   "cell_type": "code",
   "execution_count": 4,
   "metadata": {},
   "outputs": [
    {
     "name": "stderr",
     "output_type": "stream",
     "text": [
      "/home/jimmyyoung/.local/lib/python3.5/site-packages/torchvision/models/densenet.py:212: UserWarning: nn.init.kaiming_normal is now deprecated in favor of nn.init.kaiming_normal_.\n",
      "  nn.init.kaiming_normal(m.weight.data)\n"
     ]
    }
   ],
   "source": [
    "feature_extract = models.densenet121(pretrained=True)"
   ]
  },
  {
   "cell_type": "code",
   "execution_count": 5,
   "metadata": {},
   "outputs": [
    {
     "name": "stderr",
     "output_type": "stream",
     "text": [
      "/usr/local/lib/python3.5/dist-packages/pandas/core/generic.py:4401: SettingWithCopyWarning: \n",
      "A value is trying to be set on a copy of a slice from a DataFrame.\n",
      "Try using .loc[row_indexer,col_indexer] = value instead\n",
      "\n",
      "See the caveats in the documentation: http://pandas.pydata.org/pandas-docs/stable/indexing.html#indexing-view-versus-copy\n",
      "  self[name] = value\n"
     ]
    }
   ],
   "source": [
    "def sigmoid(x, derivative=False):\n",
    "    sigm = 1. / (1. + np.exp(-x))\n",
    "    if derivative:\n",
    "        return sigm * (1. - sigm)\n",
    "    return sigm\n",
    "root_list = ['HMB_1/','HMB_2/','HMB_4/','HMB_5/','HMB_6/']\n",
    "\n",
    "hbm_1_data = pd.read_csv('./HMB_1/interpolated.csv')\n",
    "hbm_2_data = pd.read_csv('./HMB_2/interpolated.csv')\n",
    "hbm_4_data = pd.read_csv('./HMB_4/interpolated.csv')\n",
    "hbm_5_data = pd.read_csv('./HMB_5/interpolated.csv')\n",
    "\n",
    "hbm_6_data = pd.read_csv('./HMB_6/interpolated.csv')\n",
    "df_list = [hbm_1_data,hbm_2_data,hbm_4_data,hbm_5_data,hbm_6_data]\n",
    "df_center_list = []\n",
    "for i,df in enumerate(df_list):\n",
    "    a = df.groupby('frame_id').get_group('center_camera')\n",
    "#     a['angle'] = (a['angle'])\n",
    "    a.sort_values('timestamp')\n",
    "    a.filename = root_list[i]+a.filename\n",
    "    df_center_list.append(a)\n",
    "    "
   ]
  },
  {
   "cell_type": "code",
   "execution_count": 6,
   "metadata": {},
   "outputs": [],
   "source": [
    "# video = []\n",
    "# for i in range(100):\n",
    "#     video.append(plt.imread(df_center_list[1].iloc[i].filename))\n",
    "# video = np.array(video)"
   ]
  },
  {
   "cell_type": "code",
   "execution_count": 7,
   "metadata": {},
   "outputs": [],
   "source": [
    "# vis.video(video)\n"
   ]
  },
  {
   "cell_type": "code",
   "execution_count": 8,
   "metadata": {},
   "outputs": [
    {
     "data": {
      "text/plain": [
       "1.90326191229"
      ]
     },
     "execution_count": 8,
     "metadata": {},
     "output_type": "execute_result"
    }
   ],
   "source": [
    "df_center_list[1]['angle'].max()"
   ]
  },
  {
   "cell_type": "code",
   "execution_count": 9,
   "metadata": {},
   "outputs": [],
   "source": [
    "class PARSER():\n",
    "    def __init__(self):\n",
    "        self.n_epochs = 10\n",
    "        self.n_iters = 2000\n",
    "        self.batch_size = 64\n",
    "        self.lr = 0.0001\n",
    "        self.b1 = 0.5\n",
    "        self.b2 = 0.999\n",
    "        self.n_cpu = 8\n",
    "        self.latent_dim = 62\n",
    "        self.img_size = 64\n",
    "        self.channels = 1\n",
    "        self.sample_interval = 10\n",
    "        self.clip_value = 0.01\n",
    "opt = PARSER()\n",
    "\n",
    "\n"
   ]
  },
  {
   "cell_type": "markdown",
   "metadata": {},
   "source": [
    "### Cuda"
   ]
  },
  {
   "cell_type": "code",
   "execution_count": 10,
   "metadata": {},
   "outputs": [],
   "source": [
    "cuda = True if torch.cuda.is_available() else False\n",
    "device = 'cuda' if cuda else 'cpu'\n"
   ]
  },
  {
   "cell_type": "markdown",
   "metadata": {},
   "source": [
    "### Weight Norm"
   ]
  },
  {
   "cell_type": "code",
   "execution_count": 11,
   "metadata": {},
   "outputs": [],
   "source": [
    "def weights_init_normal(m):\n",
    "    classname = m.__class__.__name__\n",
    "    if classname.find('Conv') != -1:\n",
    "        torch.nn.init.normal_(m.weight.data, 0.0, 0.02)\n",
    "    elif classname.find('BatchNorm2d') != -1:\n",
    "        torch.nn.init.normal_(m.weight.data, 1.0, 0.02)\n",
    "        torch.nn.init.constant_(m.bias.data, 0.0)"
   ]
  },
  {
   "cell_type": "code",
   "execution_count": 12,
   "metadata": {},
   "outputs": [],
   "source": [
    "# Policy Network\n",
    "class Generator(nn.Module):\n",
    "    def __init__(self):\n",
    "        super(Generator, self).__init__()\n",
    "        self.conv1_0 = nn.Sequential(\n",
    "            nn.Conv3d(3, 32, (3, 3, 3), stride=(1, 2, 2), padding=(0, 1, 1)),\n",
    "            nn.ReLU(),\n",
    "        )\n",
    "        \n",
    "        \n",
    "        self.conv2 = nn.Sequential(\n",
    "            nn.Conv2d(32,32,3,2,1),\n",
    "            nn.InstanceNorm2d(32),\n",
    "            nn.LeakyReLU(),\n",
    "            \n",
    "            nn.Conv2d(32,32,3,2,1),\n",
    "            nn.InstanceNorm2d(32),\n",
    "            nn.LeakyReLU(),\n",
    "            \n",
    "            nn.Conv2d(32,32,3,2,1),\n",
    "            nn.InstanceNorm2d(32),\n",
    "            nn.LeakyReLU(),\n",
    "            \n",
    "            nn.Conv2d(32,32,3,2,1),\n",
    "            nn.InstanceNorm2d(32),\n",
    "            nn.LeakyReLU(),\n",
    "            \n",
    "            nn.Conv2d(32,32,3,2,1),\n",
    "            nn.InstanceNorm2d(32),\n",
    "            nn.LeakyReLU(),\n",
    "            \n",
    "            \n",
    "        )\n",
    "        self.maxpool2_0 = nn.AdaptiveAvgPool2d(1)\n",
    "        self.fc = nn.Linear(in_features=32,out_features=2)\n",
    "        \n",
    "#         self.conv4 = nn.Conv2d(32,1,3,1,1)\n",
    "            \n",
    "    def forward(self, x):\n",
    "        \n",
    "        x = F.relu(self.conv1_0(x)) \n",
    "        x = x.squeeze(2)\n",
    "        x = self.conv2(x)\n",
    "        x = self.maxpool2_0(x)\n",
    "        x = F.hardtanh(self.fc(x.view(-1,32)),min_val=-2., max_val=2.)\n",
    "#         x = F.sigmoid(self.conv4(x))\n",
    "        return x\n",
    "# Reward function   \n",
    "class Discriminator(nn.Module):\n",
    "    def __init__(self):\n",
    "        super(Discriminator, self).__init__()\n",
    "\n",
    "        self.conv1_0 = nn.Sequential(\n",
    "            nn.Conv3d(3, 32, (3, 3, 3), stride=(1, 1, 1), padding=(0, 1, 1)),\n",
    "            nn.ReLU(),\n",
    "        )\n",
    "        self.conv = nn.Sequential(\n",
    "            nn.Conv2d(32,32,3,2,1),\n",
    "            nn.InstanceNorm2d(32),\n",
    "            nn.LeakyReLU(),\n",
    "            \n",
    "            nn.Conv2d(32,32,3,2,1),\n",
    "            nn.InstanceNorm2d(32),\n",
    "            nn.LeakyReLU(),\n",
    "            \n",
    "            nn.Conv2d(32,32,3,2,1),\n",
    "            nn.InstanceNorm2d(32),\n",
    "            nn.LeakyReLU(),\n",
    "            \n",
    "            nn.Conv2d(32,32,3,2,1),\n",
    "            nn.InstanceNorm2d(32),\n",
    "            nn.LeakyReLU(),\n",
    "            \n",
    "            nn.Conv2d(32,32,3,2,1),\n",
    "            nn.InstanceNorm2d(32),\n",
    "            nn.LeakyReLU(),\n",
    "            \n",
    "            nn.Conv2d(32,32,3,2,1),\n",
    "            nn.InstanceNorm2d(32),\n",
    "            nn.LeakyReLU(),\n",
    "            \n",
    "        )\n",
    "        self.fc1 = nn.Linear(8*10*32+2,100)\n",
    "        self.fc2 = nn.Linear(100,1)\n",
    "        self.Htanh = torch.nn.Hardtanh()\n",
    "        \n",
    "\n",
    "    def forward(self, img,predict):\n",
    "        out = self.conv1_0(img)\n",
    "        out = out.squeeze(2)\n",
    "\n",
    "        out = self.conv(out)\n",
    "        out = out.view(-1,8*10*32)\n",
    "\n",
    "        out = torch.cat([out,predict],1)\n",
    "        \n",
    "        out = self.fc1(out)\n",
    "        out = self.fc2(F.relu(out))\n",
    "        \n",
    "        return self.Htanh(out)\n",
    "\n",
    "    \n",
    "Policy_net = nn.DataParallel(Generator())\n",
    "Reward_net = nn.DataParallel(Discriminator())\n",
    "weights_init_normal(Policy_net)\n",
    "weights_init_normal(Reward_net)\n",
    "Policy_net,Reward_net = Policy_net.to(device),Reward_net.to(device)"
   ]
  },
  {
   "cell_type": "code",
   "execution_count": 13,
   "metadata": {},
   "outputs": [],
   "source": [
    "# a = Reward_net(torch.ones((32,3,3,480,640)).to(device),torch.rand((32,3)).to(device))\n",
    "# a.shape"
   ]
  },
  {
   "cell_type": "code",
   "execution_count": 14,
   "metadata": {},
   "outputs": [
    {
     "data": {
      "text/plain": [
       "2.43912960972"
      ]
     },
     "execution_count": 14,
     "metadata": {},
     "output_type": "execute_result"
    }
   ],
   "source": [
    "df_center_list[1]['torque'].max()"
   ]
  },
  {
   "cell_type": "markdown",
   "metadata": {},
   "source": [
    "### Transform"
   ]
  },
  {
   "cell_type": "code",
   "execution_count": 15,
   "metadata": {},
   "outputs": [],
   "source": [
    "transform = transforms.Compose([\n",
    "    \n",
    "    transforms.ColorJitter(0.1,0.1,0.1,0.1),\n",
    "    transforms.ToTensor(),\n",
    "    \n",
    "])"
   ]
  },
  {
   "cell_type": "markdown",
   "metadata": {},
   "source": [
    "### Sample image randomly for five image"
   ]
  },
  {
   "cell_type": "code",
   "execution_count": 16,
   "metadata": {
    "scrolled": true
   },
   "outputs": [],
   "source": [
    "# img_batch = []\n",
    "# label_batch = []\n",
    "# for batch in range(32):\n",
    "#     img_list = []\n",
    "#     label = []\n",
    "#     rand_hbm = np.random.randint(5)\n",
    "#     rand = np.random.randint(len(df_center_list[rand_hbm])-3)\n",
    "#     for i in range(3):\n",
    "#         a = PIL.Image.open(df_center_list[rand_hbm].iloc[rand+i].filename)\n",
    "#         img_list.append(transform(a))\n",
    "#     label_batch.append(torch.from_numpy(df_center_list[rand_hbm].iloc[rand+3][['angle','torque','speed']].values.astype(np.float32)))\n",
    "#     img_batch.append(torch.stack(img_list))\n",
    "# torch.stack(img_batch).shape\n",
    "# torch.stack(label_batch).shape"
   ]
  },
  {
   "cell_type": "code",
   "execution_count": null,
   "metadata": {},
   "outputs": [],
   "source": []
  },
  {
   "cell_type": "markdown",
   "metadata": {},
   "source": [
    "### Training Progress\n",
    "random sample continuous 3 images and predict the next frame"
   ]
  },
  {
   "cell_type": "code",
   "execution_count": 17,
   "metadata": {},
   "outputs": [],
   "source": [
    "\n",
    "optimizer_G = torch.optim.RMSprop(Policy_net.parameters(), lr=opt.lr)\n",
    "optimizer_D = torch.optim.RMSprop(Reward_net.parameters(), lr=opt.lr)"
   ]
  },
  {
   "cell_type": "code",
   "execution_count": null,
   "metadata": {},
   "outputs": [],
   "source": [
    "for epoch in range(opt.n_epochs):\n",
    "    for i in range(opt.n_iters):\n",
    "        img_batch = []\n",
    "        label_batch = []\n",
    "        for batch in range(32):\n",
    "            img_list = []\n",
    "            label = []\n",
    "            rand_hbm = np.random.randint(5)\n",
    "            rand = np.random.randint(len(df_center_list[rand_hbm])-3)\n",
    "            for j in range(3):\n",
    "                a = PIL.Image.open(df_center_list[rand_hbm].iloc[rand+j].filename)\n",
    "                img_list.append(transform(a))\n",
    "            label_batch.append(torch.from_numpy(df_center_list[rand_hbm].iloc[rand+3][['angle','torque']].values.astype(np.float32)))\n",
    "            img_batch.append(torch.stack(img_list))\n",
    "        img_batch = torch.stack(img_batch).to(device)\n",
    "        label_batch = torch.stack(label_batch).to(device)\n",
    "        # -----------------\n",
    "        #  Train Generator\n",
    "        # -----------------\n",
    "        optimizer_G.zero_grad()\n",
    "\n",
    "        # Generate a batch of images\n",
    "        gen_predict = Policy_net(img_batch)\n",
    "        \n",
    "        if i%5==0:\n",
    "            # Loss measures generator's ability to fool the discriminator\n",
    "            g_loss = -torch.mean(Reward_net(img_batch.detach(),gen_predict))\n",
    "    \n",
    "            g_loss.backward()\n",
    "        \n",
    "        # ---------------------\n",
    "        #  Train Discriminator\n",
    "        # ---------------------\n",
    "        optimizer_D.zero_grad()\n",
    "\n",
    "        # Measure discriminator's ability to classify real from generated samples\n",
    "#         print(torch.cat((imgs[:,0],gen_imgs),1).size())\n",
    "        \n",
    "        d_real = Reward_net(img_batch.detach(),label_batch) \n",
    "        d_fake = Reward_net(img_batch.detach(),gen_predict.detach())\n",
    "\n",
    "        d_loss_real = -torch.mean(d_real)\n",
    "        d_loss_fake = torch.mean(d_fake)\n",
    "        d_loss = d_loss_real + d_loss_fake\n",
    "\n",
    "        d_loss.backward()\n",
    "        # Clip weights of discriminator\n",
    "        \n",
    "        actuallloss = torch.sum(torch.abs(gen_predict-label_batch))\n",
    "        for p in Reward_net.parameters():\n",
    "            p.data.clamp_(-opt.clip_value, opt.clip_value)\n",
    "        optimizer_D.step()\n",
    "        \n",
    "        batches_done = epoch * opt.n_iters + i\n",
    "#         print(epoch * opt.n_iters + i)\n",
    "        if batches_done % opt.sample_interval == 0:\n",
    "            print (\"[Epoch %d/%d] [Batch %d/%d] [D loss: %f] [G loss: %f][Actual loss: %f] \" % (epoch, opt.n_epochs, i, 2000,\n",
    "                                                         d_loss.item(), g_loss.item(),actuallloss))\n",
    "#             vis.images(torch.cat((imgs[:,0],gen_imgs),1)[0,:,None])"
   ]
  },
  {
   "cell_type": "code",
   "execution_count": null,
   "metadata": {},
   "outputs": [],
   "source": [
    "torch.save(Policy_net.state_dict(),'policy.pt')\n",
    "torch.save(Reward_net.state_dict(),'reward.pt')"
   ]
  },
  {
   "cell_type": "markdown",
   "metadata": {},
   "source": [
    "### Sample"
   ]
  },
  {
   "cell_type": "code",
   "execution_count": null,
   "metadata": {},
   "outputs": [],
   "source": [
    "img_list = []\n",
    "label = []\n",
    "rand_hbm = np.random.randint(5)\n",
    "rand = np.random.randint(len(df_center_list[rand_hbm])-3)\n",
    "for i in range(3):\n",
    "    a = PIL.Image.open(df_center_list[rand_hbm].iloc[rand+i].filename)\n",
    "    img_list.append(transform(a))\n",
    "label = torch.from_numpy(df_center_list[rand_hbm].iloc[rand+3][['angle','torque','speed']].values.astype(np.float32))\n",
    "img_list = torch.stack(img_list).unsqueeze(0).to(device)"
   ]
  },
  {
   "cell_type": "code",
   "execution_count": null,
   "metadata": {},
   "outputs": [],
   "source": [
    "Policy_net(img_list)"
   ]
  },
  {
   "cell_type": "code",
   "execution_count": null,
   "metadata": {},
   "outputs": [],
   "source": [
    "label"
   ]
  },
  {
   "cell_type": "code",
   "execution_count": null,
   "metadata": {},
   "outputs": [],
   "source": []
  }
 ],
 "metadata": {
  "kernelspec": {
   "display_name": "Python 3",
   "language": "python",
   "name": "python3"
  },
  "language_info": {
   "codemirror_mode": {
    "name": "ipython",
    "version": 3
   },
   "file_extension": ".py",
   "mimetype": "text/x-python",
   "name": "python",
   "nbconvert_exporter": "python",
   "pygments_lexer": "ipython3",
   "version": "3.5.2"
  }
 },
 "nbformat": 4,
 "nbformat_minor": 2
}
